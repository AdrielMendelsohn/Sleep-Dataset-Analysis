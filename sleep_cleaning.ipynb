{
 "cells": [
  {
   "cell_type": "code",
   "execution_count": 3,
   "metadata": {},
   "outputs": [],
   "source": [
    "import pandas as pd\n",
    "from src import files_import\n",
    "from src import cleaning"
   ]
  },
  {
   "cell_type": "markdown",
   "metadata": {},
   "source": [
    "## sleep"
   ]
  },
  {
   "cell_type": "code",
   "execution_count": 4,
   "metadata": {},
   "outputs": [],
   "source": [
    "def build_mapping():\n",
    "    \"\"\"\n",
    "    בונה מילון שממפה את המספרים שבתוך הסוגריים למספרים שמחוץ לסוגריים.\n",
    "    \"\"\"\n",
    "    data = \"[0]0, [1]3, [2]3.5, [3]4, [4]4.5, [5]5, [6]5.5, [7]6, [8]6.5, [9]7, [10]7.5, [11]8, [12]8.5, [13]9, [14]9.5, [15]10, [16]10.5, [17]11, [18]11.5, [19]12\"\n",
    "    pairs = data.split(\", \")\n",
    "    mapping = {}\n",
    "\n",
    "    for pair in pairs:\n",
    "        if not pair.strip():  # דילוג על ערכים ריקים\n",
    "            continue\n",
    "        # מציאת המפתח (מספר בתוך הסוגריים) והערך (מספר מחוץ לסוגריים)\n",
    "        key = pair[pair.find(\"[\") + 1 : pair.find(\"]\")]  # המספר שבתוך הסוגריים\n",
    "        value = pair[pair.find(\"]\") + 1 :].strip()  # המספר שמחוץ לסוגריים\n",
    "        mapping[key] = value\n",
    "\n",
    "    return mapping\n",
    "\n",
    "\n",
    "mapping = build_mapping()"
   ]
  },
  {
   "cell_type": "code",
   "execution_count": 7,
   "metadata": {},
   "outputs": [
    {
     "name": "stdout",
     "output_type": "stream",
     "text": [
      "49\n",
      "[{'name': 'u00', 'record_count': 55, 'avg_hour': 6.054545454545455, 'avg_rate': 1.981818181818182}, {'name': 'u01', 'record_count': 27, 'avg_hour': 6.111111111111111, 'avg_rate': 1.5925925925925926}, {'name': 'u02', 'record_count': 26, 'avg_hour': 6.461538461538462, 'avg_rate': 2.0}, {'name': 'u03', 'record_count': 28, 'avg_hour': 6.535714285714286, 'avg_rate': 1.7142857142857142}, {'name': 'u04', 'record_count': 34, 'avg_hour': 5.735294117647059, 'avg_rate': 2.0588235294117645}, {'name': 'u05', 'record_count': 6, 'avg_hour': 6.25, 'avg_rate': 1.5}, {'name': 'u07', 'record_count': 24, 'avg_hour': 6.020833333333333, 'avg_rate': 2.0}, {'name': 'u08', 'record_count': 41, 'avg_hour': 5.878048780487805, 'avg_rate': 1.9024390243902438}, {'name': 'u09', 'record_count': 3, 'avg_hour': 6.5, 'avg_rate': 1.6666666666666667}, {'name': 'u10', 'record_count': 47, 'avg_hour': 6.3936170212765955, 'avg_rate': 2.106382978723404}, {'name': 'u12', 'record_count': 26, 'avg_hour': 6.423076923076923, 'avg_rate': 1.6153846153846154}, {'name': 'u13', 'record_count': 1, 'avg_hour': 6.5, 'avg_rate': 1.0}, {'name': 'u14', 'record_count': 30, 'avg_hour': 5.983333333333333, 'avg_rate': 1.6666666666666667}, {'name': 'u15', 'record_count': 19, 'avg_hour': 6.157894736842105, 'avg_rate': 1.894736842105263}, {'name': 'u16', 'record_count': 65, 'avg_hour': 6.453846153846154, 'avg_rate': 1.9384615384615385}, {'name': 'u17', 'record_count': 40, 'avg_hour': 4.8875, 'avg_rate': 2.675}, {'name': 'u18', 'record_count': 33, 'avg_hour': 5.303030303030303, 'avg_rate': 1.7575757575757576}, {'name': 'u19', 'record_count': 55, 'avg_hour': 6.418181818181818, 'avg_rate': 1.6545454545454545}, {'name': 'u20', 'record_count': 12, 'avg_hour': 5.708333333333333, 'avg_rate': 1.8333333333333333}, {'name': 'u22', 'record_count': 20, 'avg_hour': 6.65, 'avg_rate': 1.55}, {'name': 'u23', 'record_count': 23, 'avg_hour': 6.369565217391305, 'avg_rate': 1.608695652173913}, {'name': 'u24', 'record_count': 23, 'avg_hour': 6.3478260869565215, 'avg_rate': 2.3043478260869565}, {'name': 'u25', 'record_count': 15, 'avg_hour': 6.2, 'avg_rate': 2.066666666666667}, {'name': 'u27', 'record_count': 16, 'avg_hour': 4.90625, 'avg_rate': 2.625}, {'name': 'u30', 'record_count': 34, 'avg_hour': 6.0588235294117645, 'avg_rate': 1.5294117647058822}, {'name': 'u31', 'record_count': 11, 'avg_hour': 5.2272727272727275, 'avg_rate': 2.5454545454545454}, {'name': 'u32', 'record_count': 47, 'avg_hour': 6.574468085106383, 'avg_rate': 2.3404255319148937}, {'name': 'u33', 'record_count': 41, 'avg_hour': 5.804878048780488, 'avg_rate': 2.292682926829268}, {'name': 'u34', 'record_count': 7, 'avg_hour': 5.928571428571429, 'avg_rate': 1.2857142857142858}, {'name': 'u35', 'record_count': 25, 'avg_hour': 5.98, 'avg_rate': 1.44}, {'name': 'u36', 'record_count': 32, 'avg_hour': 6.28125, 'avg_rate': 1.96875}, {'name': 'u39', 'record_count': 10, 'avg_hour': 6.4, 'avg_rate': 1.0}, {'name': 'u41', 'record_count': 14, 'avg_hour': 6.285714285714286, 'avg_rate': 1.9285714285714286}, {'name': 'u42', 'record_count': 14, 'avg_hour': 5.857142857142857, 'avg_rate': 1.5714285714285714}, {'name': 'u43', 'record_count': 25, 'avg_hour': 6.24, 'avg_rate': 2.24}, {'name': 'u44', 'record_count': 58, 'avg_hour': 7.0344827586206895, 'avg_rate': 1.1379310344827587}, {'name': 'u45', 'record_count': 11, 'avg_hour': 6.363636363636363, 'avg_rate': 1.0909090909090908}, {'name': 'u46', 'record_count': 23, 'avg_hour': 5.630434782608695, 'avg_rate': 2.347826086956522}, {'name': 'u47', 'record_count': 9, 'avg_hour': 5.777777777777778, 'avg_rate': 1.5555555555555556}, {'name': 'u49', 'record_count': 41, 'avg_hour': 5.902439024390244, 'avg_rate': 2.024390243902439}, {'name': 'u50', 'record_count': 6, 'avg_hour': 5.916666666666667, 'avg_rate': 2.1666666666666665}, {'name': 'u51', 'record_count': 34, 'avg_hour': 6.029411764705882, 'avg_rate': 1.9705882352941178}, {'name': 'u52', 'record_count': 23, 'avg_hour': 6.1521739130434785, 'avg_rate': 1.2608695652173914}, {'name': 'u53', 'record_count': 31, 'avg_hour': 5.725806451612903, 'avg_rate': 2.7096774193548385}, {'name': 'u54', 'record_count': 12, 'avg_hour': 5.291666666666667, 'avg_rate': 2.25}, {'name': 'u56', 'record_count': 21, 'avg_hour': 7.142857142857143, 'avg_rate': 2.0476190476190474}, {'name': 'u57', 'record_count': 61, 'avg_hour': 6.245901639344262, 'avg_rate': 1.9508196721311475}, {'name': 'u58', 'record_count': 58, 'avg_hour': 6.129310344827586, 'avg_rate': 1.5517241379310345}, {'name': 'u59', 'record_count': 73, 'avg_hour': 5.445205479452055, 'avg_rate': 2.1232876712328768}]\n"
     ]
    }
   ],
   "source": [
    "def create_sleep_dictionary():\n",
    "    sleep_folder_path = \"data/StudentLife/dataset/EMA/response/Sleep\"\n",
    "    cleaned_data = cleaning.clean_data_from_jsons_folder(sleep_folder_path)\n",
    "    final_data = []\n",
    "    for student in cleaned_data:\n",
    "        # חיתוך ה-name כך שיישאר רק חלק ה-u00\n",
    "        name = student['file_name'].split('_')[1].split('.')[0]\n",
    "        # שמירת record count ללא שינוי\n",
    "        record_count = student['record_count']\n",
    "        \n",
    "        total_hours_sum = 0\n",
    "        total_rate_sum = 0\n",
    "        for i in range (record_count):\n",
    "            current_data = student['data'][i]\n",
    "            total_hours_sum += float (mapping[current_data['hour']])\n",
    "            total_rate_sum += int (current_data['rate'])\n",
    "\n",
    "        avg_hour = total_hours_sum / record_count\n",
    "        avg_rate = total_rate_sum / record_count\n",
    "    \n",
    "        # יצירת המילון החדש עבור כל סטודנט\n",
    "        final_data.append({\n",
    "            'name': name,\n",
    "            'record_count': record_count,\n",
    "            'avg_hour' : avg_hour,\n",
    "            'avg_rate' : avg_rate\n",
    "        })\n",
    "\n",
    "    return final_data\n",
    "\n",
    "result = create_sleep_dictionary()\n",
    "print(len(result))\n",
    "print(result)"
   ]
  },
  {
   "cell_type": "markdown",
   "metadata": {},
   "source": [
    "## social life"
   ]
  },
  {
   "cell_type": "code",
   "execution_count": 8,
   "metadata": {},
   "outputs": [
    {
     "name": "stdout",
     "output_type": "stream",
     "text": [
      "{'file_name': 'Social_u00.json', 'record_count': 44, 'keys': ['null', 'resp_time'], 'data': [{'location': 'Unknown', 'number': '5', 'resp_time': 1364264483}, {'location': '43.70759062,-72.28510298', 'number': '1', 'resp_time': 1364338301}, {'location': '43.70697406,-72.28758978', 'number': '1', 'resp_time': 1364328798}, {'location': '43.70708859,-72.28753397', 'number': '3', 'resp_time': 1365023797}, {'location': '43.70863158,-72.2842741', 'number': '4', 'resp_time': 1364425743}, {'location': '43.70517792,-72.28685304', 'number': '3', 'resp_time': 1364437520}, {'location': '43.70546998,-72.28794136', 'number': '4', 'resp_time': 1364573023}, {'location': '43.70674964,-72.2875834', 'number': '4', 'resp_time': 1364534048}, {'location': '43.70674964,-72.2875834', 'number': '4', 'resp_time': 1364536801}, {'location': '43.70664323,-72.28735129', 'number': '4', 'resp_time': 1364623648}, {'location': '43.75941375,-72.32875076', 'number': '2', 'resp_time': 1364710284}, {'location': '43.75907887,-72.32921107', 'number': '2', 'resp_time': 1364802076}, {'location': '43.70708859,-72.28753397', 'number': '3', 'resp_time': 1365046616}, {'location': '43.787638,-72.32241148', 'number': '2', 'resp_time': 1364965063}, {'location': '43.70708859,-72.28753397', 'number': '4', 'resp_time': 1365135658}, {'location': '43.70708859,-72.28753397', 'number': '5', 'resp_time': 1365194323}, {'location': '43.78764103,-72.32252081', 'number': '4', 'resp_time': 1365408484}, {'location': '43.65303742,-72.30996674', 'number': '5', 'resp_time': 1365538301}, {'location': '43.705058,-72.28772623', 'number': '4', 'resp_time': 1365621592}, {'location': '43.70414319,-72.28774882', 'number': '3', 'resp_time': 1365710432}, {'location': '43.70320123,-72.28865299', 'number': '4', 'resp_time': 1365627469}, {'location': '43.70444924,-72.28793809', 'number': '3', 'resp_time': 1365802767}, {'location': '43.70875092,-72.28435213', 'number': '4', 'resp_time': 1366230470}, {'location': '43.75872078,-72.32869187', 'number': '3', 'resp_time': 1366351223}, {'location': '43.75917542,-72.32926548', 'number': '2', 'resp_time': 1366530863}, {'location': '43.75927356,-72.32923496', 'number': '3', 'resp_time': 1366702251}, {'location': '48.85374768,2.32779888', 'number': '4', 'resp_time': 1367886692}, {'location': '43.75915207,-72.32893824', 'number': '4', 'resp_time': 1368173175}, {'location': '48.85875992,2.36238333', 'number': '3', 'resp_time': 1367800777}, {'location': '43.75928658,-72.32924066', 'number': '4', 'resp_time': 1368292836}, {'location': '43.75940174,-72.32918372', 'number': '3', 'resp_time': 1368457494}, {'location': '43.75883975,-72.32934752', 'number': '4', 'resp_time': 1368544017}, {'location': '43.75935021,-72.32916566', 'number': '2', 'resp_time': 1368378399}, {'location': '43.70625307,-72.28700801', 'number': '1', 'resp_time': 1369154095}, {'location': '43.70659363,-72.28727549', 'number': '2', 'resp_time': 1369706424}, {'location': '38.9057069,-77.03396292', 'number': '2', 'resp_time': 1369462231}, {'location': '43.75912044,-72.3291579', 'number': '2', 'resp_time': 1369625942}, {'location': '43.70434788,-72.28657033', 'number': '2', 'resp_time': 1369794914}, {'location': 'Unknown', 'number': '2', 'resp_time': 1369879854}, {'location': '43.70006541,-72.29016831', 'number': '3', 'resp_time': 1369965660}, {'location': '43.73283379,-72.25842981', 'number': '2', 'resp_time': 1370139580}, {'location': '43.75910573,-72.32818315', 'number': '1', 'resp_time': 1370239154}, {'location': '43.70258236,-72.28403025', 'number': '1', 'resp_time': 1370311653}, {'location': '43.66724891,-72.31884989', 'number': '2', 'resp_time': 1370496946}]}\n"
     ]
    }
   ],
   "source": [
    "# Define the folder containing the files\n",
    "social_folder_path = \"data/StudentLife/dataset/EMA/response/Social\"\n",
    "\n",
    "basic_cleaning_social_data = cleaning.clean_data_from_jsons_folder(social_folder_path)\n",
    "print(basic_cleaning_social_data[0])"
   ]
  },
  {
   "cell_type": "code",
   "execution_count": 9,
   "metadata": {},
   "outputs": [
    {
     "name": "stdout",
     "output_type": "stream",
     "text": [
      "49\n",
      "[{'name': 'u00', 'record_count': 44, 'data': [{'number': '5'}, {'number': '1'}, {'number': '1'}, {'number': '3'}, {'number': '4'}, {'number': '3'}, {'number': '4'}, {'number': '4'}, {'number': '4'}, {'number': '4'}, {'number': '2'}, {'number': '2'}, {'number': '3'}, {'number': '2'}, {'number': '4'}, {'number': '5'}, {'number': '4'}, {'number': '5'}, {'number': '4'}, {'number': '3'}, {'number': '4'}, {'number': '3'}, {'number': '4'}, {'number': '3'}, {'number': '2'}, {'number': '3'}, {'number': '4'}, {'number': '4'}, {'number': '3'}, {'number': '4'}, {'number': '3'}, {'number': '4'}, {'number': '2'}, {'number': '1'}, {'number': '2'}, {'number': '2'}, {'number': '2'}, {'number': '2'}, {'number': '2'}, {'number': '3'}, {'number': '2'}, {'number': '1'}, {'number': '1'}, {'number': '2'}]}, {'name': 'u01', 'record_count': 18, 'data': [{'number': '4'}, {'number': '4'}, {'number': '2'}, {'number': '2'}, {'number': '4'}, {'number': '3'}, {'number': '4'}, {'number': '4'}, {'number': '3'}, {'number': '4'}, {'number': '4'}, {'number': '4'}, {'number': '3'}, {'number': '4'}, {'number': '2'}, {'number': '4'}, {'number': '4'}, {'number': '4'}]}, {'name': 'u02', 'record_count': 20, 'data': [{'number': '3'}, {'number': '3'}, {'number': '4'}, {'number': '3'}, {'number': '4'}, {'number': '3'}, {'number': '3'}, {'number': '2'}, {'number': '3'}, {'number': '3'}, {'number': '4'}, {'number': '2'}, {'number': '3'}, {'number': '2'}, {'number': '2'}, {'number': '3'}, {'number': '3'}, {'number': '2'}, {'number': '3'}, {'number': '1'}]}, {'name': 'u03', 'record_count': 20, 'data': [{'number': '1'}, {'number': '2'}, {'number': '1'}, {'number': '3'}, {'number': '2'}, {'number': '2'}, {'number': '1'}, {'number': '1'}, {'number': '2'}, {'number': '1'}, {'number': '1'}, {'number': '2'}, {'number': '1'}, {'number': '2'}, {'number': '2'}, {'number': '2'}, {'number': '1'}, {'number': '2'}, {'number': '1'}, {'number': '1'}]}, {'name': 'u04', 'record_count': 27, 'data': [{'number': '2'}, {'number': '3'}, {'number': '3'}, {'number': '2'}, {'number': '3'}, {'number': '3'}, {'number': '4'}, {'number': '3'}, {'number': '3'}, {'number': '3'}, {'number': '3'}, {'number': '3'}, {'number': '4'}, {'number': '4'}, {'number': '3'}, {'number': '3'}, {'number': '3'}, {'number': '3'}, {'number': '3'}, {'number': '3'}, {'number': '3'}, {'number': '3'}, {'number': '3'}, {'number': '4'}, {'number': '3'}, {'number': '4'}, {'number': '2'}]}, {'name': 'u05', 'record_count': 6, 'data': [{'number': '3'}, {'number': '4'}, {'number': '3'}, {'number': '5'}, {'number': '5'}, {'number': '6'}]}, {'name': 'u07', 'record_count': 24, 'data': [{'number': '3'}, {'number': '3'}, {'number': '3'}, {'number': '3'}, {'number': '3'}, {'number': '4'}, {'number': '3'}, {'number': '3'}, {'number': '3'}, {'number': '3'}, {'number': '4'}, {'number': '4'}, {'number': '3'}, {'number': '4'}, {'number': '3'}, {'number': '3'}, {'number': '3'}, {'number': '3'}, {'number': '3'}, {'number': '3'}, {'number': '4'}, {'number': '3'}, {'number': '3'}, {'number': '4'}]}, {'name': 'u08', 'record_count': 43, 'data': [{'number': '3'}, {'number': '2'}, {'number': '3'}, {'number': '2'}, {'number': '2'}, {'number': '2'}, {'number': '2'}, {'number': '2'}, {'number': '2'}, {'number': '2'}, {'number': '2'}, {'number': '3'}, {'number': '3'}, {'number': '3'}, {'number': '2'}, {'number': '3'}, {'number': '3'}, {'number': '3'}, {'number': '4'}, {'number': '3'}, {'number': '3'}, {'number': '3'}, {'number': '3'}, {'number': '3'}, {'number': '3'}, {'number': '3'}, {'number': '3'}, {'number': '3'}, {'number': '4'}, {'number': '3'}, {'number': '3'}, {'number': '3'}, {'number': '2'}, {'number': '3'}, {'number': '3'}, {'number': '3'}, {'number': '3'}, {'number': '3'}, {'number': '3'}, {'number': '3'}, {'number': '4'}, {'number': '3'}, {'number': '1'}]}, {'name': 'u09', 'record_count': 1, 'data': [{'number': '3'}]}, {'name': 'u10', 'record_count': 30, 'data': [{'number': '3'}, {'number': '2'}, {'number': '3'}, {'number': '3'}, {'number': '4'}, {'number': '3'}, {'number': '3'}, {'number': '3'}, {'number': '3'}, {'number': '3'}, {'number': '4'}, {'number': '3'}, {'number': '3'}, {'number': '3'}, {'number': '2'}, {'number': '2'}, {'number': '4'}, {'number': '3'}, {'number': '3'}, {'number': '4'}, {'number': '4'}, {'number': '3'}, {'number': '4'}, {'number': '3'}, {'number': '4'}, {'number': '3'}, {'number': '3'}, {'number': '4'}, {'number': '3'}, {'number': '2'}]}, {'name': 'u12', 'record_count': 18, 'data': [{'number': '2'}, {'number': '3'}, {'number': '1'}, {'number': '1'}, {'number': '1'}, {'number': '3'}, {'number': '4'}, {'number': '3'}, {'number': '3'}, {'number': '4'}, {'number': '1'}, {'number': '3'}, {'number': '1'}, {'number': '1'}, {'number': '3'}, {'number': '1'}, {'number': '1'}, {'number': '1'}]}, {'name': 'u13', 'record_count': 0, 'data': []}, {'name': 'u14', 'record_count': 26, 'data': [{'number': '4'}, {'number': '3'}, {'number': '4'}, {'number': '3'}, {'number': '3'}, {'number': '3'}, {'number': '4'}, {'number': '4'}, {'number': '2'}, {'number': '3'}, {'number': '2'}, {'number': '3'}, {'number': '3'}, {'number': '4'}, {'number': '3'}, {'number': '3'}, {'number': '4'}, {'number': '4'}, {'number': '4'}, {'number': '4'}, {'number': '3'}, {'number': '3'}, {'number': '4'}, {'number': '3'}, {'number': '3'}, {'number': '1'}]}, {'name': 'u15', 'record_count': 10, 'data': [{'number': '5'}, {'number': '5'}, {'number': '5'}, {'number': '4'}, {'number': '4'}, {'number': '4'}, {'number': '4'}, {'number': '5'}, {'number': '4'}, {'number': '4'}]}, {'name': 'u16', 'record_count': 40, 'data': [{'number': '4'}, {'number': '5'}, {'number': '5'}, {'number': '5'}, {'number': '4'}, {'number': '4'}, {'number': '4'}, {'number': '3'}, {'number': '3'}, {'number': '4'}, {'number': '4'}, {'number': '2'}, {'number': '4'}, {'number': '4'}, {'number': '2'}, {'number': '4'}, {'number': '2'}, {'number': '3'}, {'number': '3'}, {'number': '3'}, {'number': '1'}, {'number': '2'}, {'number': '2'}, {'number': '2'}, {'number': '3'}, {'number': '3'}, {'number': '2'}, {'number': '2'}, {'number': '4'}, {'number': '3'}, {'number': '4'}, {'number': '3'}, {'number': '1'}, {'number': '4'}, {'number': '3'}, {'number': '1'}, {'number': '3'}, {'number': '3'}, {'number': '2'}, {'number': '1'}]}, {'name': 'u17', 'record_count': 31, 'data': [{'number': '3'}, {'number': '1'}, {'number': '3'}, {'number': '1'}, {'number': '4'}, {'number': '4'}, {'number': '3'}, {'number': '2'}, {'number': '3'}, {'number': '4'}, {'number': '2'}, {'number': '4'}, {'number': '2'}, {'number': '3'}, {'number': '3'}, {'number': '3'}, {'number': '3'}, {'number': '4'}, {'number': '4'}, {'number': '2'}, {'number': '3'}, {'number': '2'}, {'number': '2'}, {'number': '1'}, {'number': '2'}, {'number': '1'}, {'number': '1'}, {'number': '1'}, {'number': '3'}, {'number': '1'}, {'number': '1'}]}, {'name': 'u18', 'record_count': 22, 'data': [{'number': '3'}, {'number': '3'}, {'number': '3'}, {'number': '2'}, {'number': '2'}, {'number': '3'}, {'number': '1'}, {'number': '2'}, {'number': '1'}, {'number': '3'}, {'number': '3'}, {'number': '2'}, {'number': '2'}, {'number': '3'}, {'number': '1'}, {'number': '2'}, {'number': '2'}, {'number': '1'}, {'number': '1'}, {'number': '1'}, {'number': '1'}, {'number': '1'}]}, {'name': 'u19', 'record_count': 39, 'data': [{'number': '1'}, {'number': '2'}, {'number': '2'}, {'number': '3'}, {'number': '3'}, {'number': '1'}, {'number': '4'}, {'number': '3'}, {'number': '2'}, {'number': '3'}, {'number': '3'}, {'number': '4'}, {'number': '4'}, {'number': '4'}, {'number': '5'}, {'number': '4'}, {'number': '4'}, {'number': '4'}, {'number': '4'}, {'number': '5'}, {'number': '5'}, {'number': '4'}, {'number': '5'}, {'number': '3'}, {'number': '3'}, {'number': '5'}, {'number': '3'}, {'number': '5'}, {'number': '2'}, {'number': '3'}, {'number': '4'}, {'number': '3'}, {'number': '4'}, {'number': '3'}, {'number': '4'}, {'number': '3'}, {'number': '3'}, {'number': '3'}, {'number': '6'}]}, {'name': 'u20', 'record_count': 7, 'data': [{'number': '2'}, {'number': '3'}, {'number': '3'}, {'number': '3'}, {'number': '3'}, {'number': '1'}, {'number': '2'}]}, {'name': 'u22', 'record_count': 29, 'data': [{'number': '2'}, {'number': '3'}, {'number': '3'}, {'number': '1'}, {'number': '3'}, {'number': '2'}, {'number': '3'}, {'number': '2'}, {'number': '3'}, {'number': '3'}, {'number': '3'}, {'number': '3'}, {'number': '1'}, {'number': '2'}, {'number': '3'}, {'number': '3'}, {'number': '1'}, {'number': '3'}, {'number': '3'}, {'number': '2'}, {'number': '3'}, {'number': '3'}, {'number': '3'}, {'number': '4'}, {'number': '3'}, {'number': '3'}, {'number': '1'}, {'number': '1'}, {'number': '2'}]}, {'name': 'u23', 'record_count': 32, 'data': [{'number': '1'}, {'number': '1'}, {'number': '2'}, {'number': '1'}, {'number': '2'}, {'number': '1'}, {'number': '1'}, {'number': '1'}, {'number': '1'}, {'number': '1'}, {'number': '1'}, {'number': '1'}, {'number': '1'}, {'number': '2'}, {'number': '1'}, {'number': '1'}, {'number': '1'}, {'number': '1'}, {'number': '2'}, {'number': '1'}, {'number': '1'}, {'number': '1'}, {'number': '1'}, {'number': '1'}, {'number': '1'}, {'number': '1'}, {'number': '1'}, {'number': '1'}, {'number': '1'}, {'number': '1'}, {'number': '1'}, {'number': '1'}]}, {'name': 'u24', 'record_count': 25, 'data': [{'number': '4'}, {'number': '4'}, {'number': '4'}, {'number': '4'}, {'number': '3'}, {'number': '4'}, {'number': '6'}, {'number': '3'}, {'number': '3'}, {'number': '5'}, {'number': '3'}, {'number': '4'}, {'number': '5'}, {'number': '4'}, {'number': '5'}, {'number': '4'}, {'number': '4'}, {'number': '4'}, {'number': '4'}, {'number': '4'}, {'number': '4'}, {'number': '4'}, {'number': '5'}, {'number': '4'}, {'number': '4'}]}, {'name': 'u25', 'record_count': 14, 'data': [{'number': '4'}, {'number': '4'}, {'number': '5'}, {'number': '3'}, {'number': '3'}, {'number': '3'}, {'number': '3'}, {'number': '4'}, {'number': '2'}, {'number': '2'}, {'number': '3'}, {'number': '2'}, {'number': '3'}, {'number': '2'}]}, {'name': 'u27', 'record_count': 16, 'data': [{'number': '3'}, {'number': '1'}, {'number': '2'}, {'number': '3'}, {'number': '1'}, {'number': '3'}, {'number': '1'}, {'number': '2'}, {'number': '2'}, {'number': '3'}, {'number': '3'}, {'number': '2'}, {'number': '2'}, {'number': '2'}, {'number': '3'}, {'number': '1'}]}, {'name': 'u30', 'record_count': 17, 'data': [{'number': '5'}, {'number': '4'}, {'number': '4'}, {'number': '3'}, {'number': '5'}, {'number': '4'}, {'number': '2'}, {'number': '3'}, {'number': '5'}, {'number': '5'}, {'number': '2'}, {'number': '4'}, {'number': '3'}, {'number': '4'}, {'number': '2'}, {'number': '4'}, {'number': '5'}]}, {'name': 'u31', 'record_count': 9, 'data': [{'number': '3'}, {'number': '1'}, {'number': '3'}, {'number': '2'}, {'number': '1'}, {'number': '1'}, {'number': '1'}, {'number': '1'}, {'number': '1'}]}, {'name': 'u32', 'record_count': 28, 'data': [{'number': '5'}, {'number': '3'}, {'number': '4'}, {'number': '4'}, {'number': '3'}, {'number': '3'}, {'number': '4'}, {'number': '5'}, {'number': '5'}, {'number': '4'}, {'number': '4'}, {'number': '5'}, {'number': '4'}, {'number': '4'}, {'number': '4'}, {'number': '5'}, {'number': '5'}, {'number': '4'}, {'number': '3'}, {'number': '5'}, {'number': '3'}, {'number': '4'}, {'number': '4'}, {'number': '6'}, {'number': '6'}, {'number': '4'}, {'number': '4'}, {'number': '4'}]}, {'name': 'u33', 'record_count': 32, 'data': [{'number': '4'}, {'number': '3'}, {'number': '4'}, {'number': '4'}, {'number': '5'}, {'number': '4'}, {'number': '3'}, {'number': '3'}, {'number': '4'}, {'number': '3'}, {'number': '3'}, {'number': '4'}, {'number': '4'}, {'number': '4'}, {'number': '4'}, {'number': '5'}, {'number': '2'}, {'number': '4'}, {'number': '5'}, {'number': '3'}, {'number': '3'}, {'number': '4'}, {'number': '5'}, {'number': '5'}, {'number': '5'}, {'number': '5'}, {'number': '4'}, {'number': '4'}, {'number': '6'}, {'number': '2'}, {'number': '4'}, {'number': '3'}]}, {'name': 'u34', 'record_count': 5, 'data': [{'number': '3'}, {'number': '4'}, {'number': '4'}, {'number': '4'}, {'number': '4'}]}, {'name': 'u35', 'record_count': 22, 'data': [{'number': '2'}, {'number': '2'}, {'number': '2'}, {'number': '3'}, {'number': '2'}, {'number': '2'}, {'number': '1'}, {'number': '1'}, {'number': '3'}, {'number': '2'}, {'number': '2'}, {'number': '3'}, {'number': '3'}, {'number': '3'}, {'number': '2'}, {'number': '4'}, {'number': '3'}, {'number': '2'}, {'number': '2'}, {'number': '3'}, {'number': '2'}, {'number': '2'}]}, {'name': 'u36', 'record_count': 32, 'data': [{'number': '3'}, {'number': '2'}, {'number': '3'}, {'number': '2'}, {'number': '2'}, {'number': '2'}, {'number': '2'}, {'number': '2'}, {'number': '2'}, {'number': '2'}, {'number': '2'}, {'number': '2'}, {'number': '2'}, {'number': '2'}, {'number': '2'}, {'number': '2'}, {'number': '2'}, {'number': '2'}, {'number': '2'}, {'number': '4'}, {'number': '2'}, {'number': '2'}, {'number': '2'}, {'number': '2'}, {'number': '2'}, {'number': '2'}, {'number': '2'}, {'number': '2'}, {'number': '2'}, {'number': '2'}, {'number': '2'}, {'number': '2'}]}, {'name': 'u39', 'record_count': 11, 'data': [{'number': '1'}, {'number': '1'}, {'number': '1'}, {'number': '1'}, {'number': '1'}, {'number': '1'}, {'number': '1'}, {'number': '1'}, {'number': '1'}, {'number': '1'}, {'number': '1'}]}, {'name': 'u41', 'record_count': 7, 'data': [{'number': '2'}, {'number': '2'}, {'number': '4'}, {'number': '3'}, {'number': '4'}, {'number': '4'}, {'number': '5'}]}, {'name': 'u42', 'record_count': 15, 'data': [{'number': '2'}, {'number': '2'}, {'number': '3'}, {'number': '3'}, {'number': '3'}, {'number': '3'}, {'number': '3'}, {'number': '2'}, {'number': '1'}, {'number': '1'}, {'number': '3'}, {'number': '3'}, {'number': '3'}, {'number': '3'}, {'number': '2'}]}, {'name': 'u43', 'record_count': 44, 'data': [{'number': '4'}, {'number': '4'}, {'number': '3'}, {'number': '3'}, {'number': '3'}, {'number': '3'}, {'number': '4'}, {'number': '3'}, {'number': '3'}, {'number': '3'}, {'number': '3'}, {'number': '3'}, {'number': '3'}, {'number': '2'}, {'number': '2'}, {'number': '2'}, {'number': '2'}, {'number': '2'}, {'number': '4'}, {'number': '3'}, {'number': '3'}, {'number': '3'}, {'number': '3'}, {'number': '3'}, {'number': '3'}, {'number': '3'}, {'number': '4'}, {'number': '2'}, {'number': '2'}, {'number': '3'}, {'number': '3'}, {'number': '3'}, {'number': '4'}, {'number': '4'}, {'number': '3'}, {'number': '3'}, {'number': '4'}, {'number': '3'}, {'number': '4'}, {'number': '4'}, {'number': '3'}, {'number': '3'}, {'number': '4'}, {'number': '4'}]}, {'name': 'u44', 'record_count': 58, 'data': [{'number': '2'}, {'number': '3'}, {'number': '2'}, {'number': '2'}, {'number': '2'}, {'number': '2'}, {'number': '2'}, {'number': '2'}, {'number': '2'}, {'number': '2'}, {'number': '2'}, {'number': '2'}, {'number': '2'}, {'number': '3'}, {'number': '2'}, {'number': '2'}, {'number': '1'}, {'number': '1'}, {'number': '2'}, {'number': '2'}, {'number': '2'}, {'number': '4'}, {'number': '2'}, {'number': '2'}, {'number': '2'}, {'number': '2'}, {'number': '2'}, {'number': '2'}, {'number': '2'}, {'number': '2'}, {'number': '2'}, {'number': '2'}, {'number': '3'}, {'number': '2'}, {'number': '2'}, {'number': '2'}, {'number': '2'}, {'number': '2'}, {'number': '3'}, {'number': '2'}, {'number': '1'}, {'number': '2'}, {'number': '2'}, {'number': '2'}, {'number': '1'}, {'number': '2'}, {'number': '2'}, {'number': '2'}, {'number': '2'}, {'number': '2'}, {'number': '2'}, {'number': '3'}, {'number': '2'}, {'number': '3'}, {'number': '2'}, {'number': '4'}, {'number': '2'}, {'number': '2'}]}, {'name': 'u45', 'record_count': 15, 'data': [{'number': '3'}, {'number': '4'}, {'number': '3'}, {'number': '3'}, {'number': '3'}, {'number': '3'}, {'number': '3'}, {'number': '2'}, {'number': '2'}, {'number': '3'}, {'number': '3'}, {'number': '2'}, {'number': '3'}, {'number': '3'}, {'number': '3'}]}, {'name': 'u46', 'record_count': 17, 'data': [{'number': '4'}, {'number': '4'}, {'number': '4'}, {'number': '3'}, {'number': '4'}, {'number': '4'}, {'number': '4'}, {'number': '3'}, {'number': '4'}, {'number': '3'}, {'number': '4'}, {'number': '4'}, {'number': '4'}, {'number': '4'}, {'number': '4'}, {'number': '5'}, {'number': '2'}]}, {'name': 'u47', 'record_count': 17, 'data': [{'number': '3'}, {'number': '3'}, {'number': '2'}, {'number': '4'}, {'number': '3'}, {'number': '2'}, {'number': '3'}, {'number': '3'}, {'number': '2'}, {'number': '2'}, {'number': '3'}, {'number': '4'}, {'number': '2'}, {'number': '4'}, {'number': '3'}, {'number': '5'}, {'number': '6'}]}, {'name': 'u49', 'record_count': 33, 'data': [{'number': '4'}, {'number': '2'}, {'number': '3'}, {'number': '2'}, {'number': '3'}, {'number': '4'}, {'number': '3'}, {'number': '3'}, {'number': '4'}, {'number': '3'}, {'number': '4'}, {'number': '3'}, {'number': '3'}, {'number': '3'}, {'number': '3'}, {'number': '3'}, {'number': '5'}, {'number': '3'}, {'number': '4'}, {'number': '4'}, {'number': '3'}, {'number': '4'}, {'number': '4'}, {'number': '4'}, {'number': '4'}, {'number': '3'}, {'number': '4'}, {'number': '3'}, {'number': '4'}, {'number': '4'}, {'number': '3'}, {'number': '4'}, {'number': '3'}]}, {'name': 'u50', 'record_count': 7, 'data': [{'number': '1'}, {'number': '2'}, {'number': '1'}, {'number': '1'}, {'number': '1'}, {'number': '2'}, {'number': '2'}]}, {'name': 'u51', 'record_count': 33, 'data': [{'number': '3'}, {'number': '3'}, {'number': '2'}, {'number': '2'}, {'number': '3'}, {'number': '2'}, {'number': '2'}, {'number': '1'}, {'number': '2'}, {'number': '1'}, {'number': '1'}, {'number': '1'}, {'number': '1'}, {'number': '1'}, {'number': '2'}, {'number': '2'}, {'number': '1'}, {'number': '3'}, {'number': '2'}, {'number': '2'}, {'number': '1'}, {'number': '2'}, {'number': '2'}, {'number': '2'}, {'number': '1'}, {'number': '1'}, {'number': '1'}, {'number': '1'}, {'number': '1'}, {'number': '2'}, {'number': '1'}, {'number': '3'}, {'number': '1'}]}, {'name': 'u52', 'record_count': 13, 'data': [{'number': '3'}, {'number': '3'}, {'number': '3'}, {'number': '3'}, {'number': '2'}, {'number': '3'}, {'number': '3'}, {'number': '2'}, {'number': '2'}, {'number': '2'}, {'number': '3'}, {'number': '2'}, {'number': '2'}]}, {'name': 'u53', 'record_count': 31, 'data': [{'number': '3'}, {'number': '2'}, {'number': '2'}, {'number': '3'}, {'number': '4'}, {'number': '2'}, {'number': '3'}, {'number': '3'}, {'number': '4'}, {'number': '3'}, {'number': '3'}, {'number': '3'}, {'number': '4'}, {'number': '3'}, {'number': '3'}, {'number': '2'}, {'number': '3'}, {'number': '4'}, {'number': '3'}, {'number': '2'}, {'number': '3'}, {'number': '2'}, {'number': '2'}, {'number': '3'}, {'number': '3'}, {'number': '2'}, {'number': '3'}, {'number': '3'}, {'number': '3'}, {'number': '3'}, {'number': '4'}]}, {'name': 'u54', 'record_count': 11, 'data': [{'number': '6'}, {'number': '3'}, {'number': '2'}, {'number': '3'}, {'number': '3'}, {'number': '2'}, {'number': '2'}, {'number': '3'}, {'number': '3'}, {'number': '2'}, {'number': '1'}]}, {'name': 'u56', 'record_count': 12, 'data': [{'number': '2'}, {'number': '3'}, {'number': '2'}, {'number': '2'}, {'number': '2'}, {'number': '2'}, {'number': '3'}, {'number': '4'}, {'number': '3'}, {'number': '2'}, {'number': '4'}, {'number': '1'}]}, {'name': 'u57', 'record_count': 36, 'data': [{'number': '4'}, {'number': '5'}, {'number': '4'}, {'number': '5'}, {'number': '4'}, {'number': '4'}, {'number': '5'}, {'number': '5'}, {'number': '4'}, {'number': '4'}, {'number': '4'}, {'number': '4'}, {'number': '5'}, {'number': '4'}, {'number': '5'}, {'number': '4'}, {'number': '5'}, {'number': '4'}, {'number': '5'}, {'number': '4'}, {'number': '4'}, {'number': '5'}, {'number': '5'}, {'number': '4'}, {'number': '5'}, {'number': '4'}, {'number': '5'}, {'number': '5'}, {'number': '5'}, {'number': '5'}, {'number': '3'}, {'number': '6'}, {'number': '4'}, {'number': '4'}, {'number': '4'}, {'number': '4'}]}, {'name': 'u58', 'record_count': 43, 'data': [{'number': '1'}, {'number': '2'}, {'number': '1'}, {'number': '3'}, {'number': '3'}, {'number': '2'}, {'number': '2'}, {'number': '3'}, {'number': '2'}, {'number': '2'}, {'number': '3'}, {'number': '3'}, {'number': '2'}, {'number': '1'}, {'number': '1'}, {'number': '2'}, {'number': '3'}, {'number': '3'}, {'number': '3'}, {'number': '2'}, {'number': '2'}, {'number': '2'}, {'number': '2'}, {'number': '2'}, {'number': '1'}, {'number': '3'}, {'number': '2'}, {'number': '3'}, {'number': '1'}, {'number': '1'}, {'number': '1'}, {'number': '3'}, {'number': '1'}, {'number': '2'}, {'number': '1'}, {'number': '2'}, {'number': '2'}, {'number': '1'}, {'number': '2'}, {'number': '1'}, {'number': '2'}, {'number': '2'}, {'number': '1'}]}, {'name': 'u59', 'record_count': 79, 'data': [{'number': '4'}, {'number': '4'}, {'number': '5'}, {'number': '4'}, {'number': '5'}, {'number': '4'}, {'number': '4'}, {'number': '4'}, {'number': '4'}, {'number': '5'}, {'number': '5'}, {'number': '4'}, {'number': '4'}, {'number': '4'}, {'number': '4'}, {'number': '4'}, {'number': '4'}, {'number': '5'}, {'number': '5'}, {'number': '4'}, {'number': '5'}, {'number': '5'}, {'number': '5'}, {'number': '4'}, {'number': '4'}, {'number': '5'}, {'number': '4'}, {'number': '4'}, {'number': '4'}, {'number': '4'}, {'number': '4'}, {'number': '4'}, {'number': '4'}, {'number': '4'}, {'number': '4'}, {'number': '4'}, {'number': '5'}, {'number': '4'}, {'number': '5'}, {'number': '4'}, {'number': '4'}, {'number': '4'}, {'number': '4'}, {'number': '5'}, {'number': '4'}, {'number': '4'}, {'number': '4'}, {'number': '4'}, {'number': '4'}, {'number': '5'}, {'number': '4'}, {'number': '5'}, {'number': '5'}, {'number': '4'}, {'number': '5'}, {'number': '5'}, {'number': '5'}, {'number': '4'}, {'number': '5'}, {'number': '4'}, {'number': '3'}, {'number': '4'}, {'number': '4'}, {'number': '4'}, {'number': '4'}, {'number': '5'}, {'number': '5'}, {'number': '4'}, {'number': '4'}, {'number': '5'}, {'number': '4'}, {'number': '4'}, {'number': '4'}, {'number': '4'}, {'number': '4'}, {'number': '3'}, {'number': '4'}, {'number': '3'}, {'number': '3'}]}]\n"
     ]
    }
   ],
   "source": [
    "\n",
    "# פונקציה ליצירת מילון מרכזי עבור הסטודנטים\n",
    "def create_final_social_dictionary(cleaned_data):\n",
    "    final_data = []\n",
    "\n",
    "    for student in cleaned_data:\n",
    "        # חיתוך ה-name כך שיישאר רק חלק ה-u00\n",
    "        name = student['file_name'].split('_')[1].split('.')[0]\n",
    "        \n",
    "        # שמירת record count ללא שינוי\n",
    "        record_count = student['record_count']\n",
    "        \n",
    "        # עיבוד ה-data כך שישארו רק השדות hour ו-rate\n",
    "        cleaned_data = [\n",
    "            {key: obj[key] for key in ['number'] if key in obj}\n",
    "            for obj in student['data']\n",
    "        ]\n",
    "        \n",
    "        # יצירת המילון החדש עבור כל סטודנט\n",
    "        final_data.append({\n",
    "            'name': name,\n",
    "            'record_count': record_count,\n",
    "            'data': cleaned_data\n",
    "        })\n",
    "\n",
    "    return final_data\n",
    "\n",
    "\n",
    "#call the function\n",
    "final_social_data = create_final_social_dictionary(basic_cleaning_social_data)\n",
    "\n",
    "#just checking\n",
    "print(len(final_social_data))\n",
    "print(final_social_data)"
   ]
  },
  {
   "cell_type": "markdown",
   "metadata": {},
   "source": [
    "## grades"
   ]
  },
  {
   "cell_type": "code",
   "execution_count": 27,
   "metadata": {},
   "outputs": [
    {
     "name": "stdout",
     "output_type": "stream",
     "text": [
      "    uid   gpa all   gpa 13s     cs 65\n",
      "0   u01     2.863  1.777778  3.000000\n",
      "1   u02     3.505  4.000000  4.000000\n",
      "2   u04     3.029  3.500000  4.000000\n",
      "3   u05     3.679  3.777778  4.000000\n",
      "4   u07     3.474  4.000000  4.000000\n",
      "5   u08     3.705  3.333333  4.000000\n",
      "6   u09     3.806  3.777778  3.666667\n",
      "7   u10     3.667  3.777778  4.000000\n",
      "8   u12     3.245  2.583333  2.333333\n",
      "9   u14     3.293  3.888889  3.666667\n",
      "10  u15     2.815  3.333333  3.666667\n",
      "11  u16     3.373  4.000000  4.000000\n",
      "12  u17     3.476  3.333333  4.000000\n",
      "13  u18     3.474  3.333333  3.333333\n",
      "14  u19     3.947  3.777778  3.333333\n",
      "15  u22     3.889  3.916667  4.000000\n",
      "16  u24     2.987  3.222222  3.333333\n",
      "17  u25     2.765  3.333333  3.666667\n",
      "18  u27     3.719  3.333333  3.000000\n",
      "19  u30     3.930  3.916667  4.000000\n",
      "20  u32     3.826  3.888889  4.000000\n",
      "21  u33     2.815  2.777778  4.000000\n",
      "22  u41     3.652  3.777778  4.000000\n",
      "23  u43     3.790  4.000000  4.000000\n",
      "24  u46     3.646  1.111111  4.000000\n",
      "25  u49     3.625  3.777778  4.000000\n",
      "26  u52     2.400  1.000000  0.000000\n",
      "27  u54     3.343  3.444444  4.000000\n",
      "28  u57     3.389  2.666667  4.000000\n",
      "29  u59     3.519  3.555556  3.666667\n"
     ]
    },
    {
     "name": "stderr",
     "output_type": "stream",
     "text": [
      "<>:1: SyntaxWarning: invalid escape sequence '\\d'\n",
      "<>:1: SyntaxWarning: invalid escape sequence '\\d'\n",
      "C:\\Users\\User\\AppData\\Local\\Temp\\ipykernel_30240\\3066694720.py:1: SyntaxWarning: invalid escape sequence '\\d'\n",
      "  file_path = \"data/StudentLife\\dataset\\education\\grades.csv\"\n"
     ]
    }
   ],
   "source": [
    "file_path = \"data/StudentLife\\dataset\\education\\grades.csv\"\n",
    "grades_data = pd.read_csv(file_path)\n",
    "print(grades_data)"
   ]
  },
  {
   "cell_type": "code",
   "execution_count": 31,
   "metadata": {},
   "outputs": [
    {
     "name": "stdout",
     "output_type": "stream",
     "text": [
      "0     u01\n",
      "1     u02\n",
      "2     u04\n",
      "3     u05\n",
      "4     u07\n",
      "5     u08\n",
      "6     u09\n",
      "7     u10\n",
      "8     u12\n",
      "9     u14\n",
      "10    u15\n",
      "11    u16\n",
      "12    u17\n",
      "13    u18\n",
      "14    u19\n",
      "15    u22\n",
      "16    u24\n",
      "17    u25\n",
      "18    u27\n",
      "19    u30\n",
      "20    u32\n",
      "21    u33\n",
      "22    u41\n",
      "23    u43\n",
      "24    u46\n",
      "25    u49\n",
      "26    u52\n",
      "27    u54\n",
      "28    u57\n",
      "29    u59\n",
      "Name: uid, dtype: object\n"
     ]
    }
   ],
   "source": [
    "name = grades_data['uid']\n",
    "print(name)"
   ]
  },
  {
   "cell_type": "code",
   "execution_count": 32,
   "metadata": {},
   "outputs": [
    {
     "name": "stdout",
     "output_type": "stream",
     "text": [
      "30\n",
      "[{'name': 'u01', 'gpaAll': np.float64(2.863), 'gpa 13s': np.float64(1.777777778), 'cs 65': np.float64(3.0)}, {'name': 'u02', 'gpaAll': np.float64(3.505), 'gpa 13s': np.float64(4.0), 'cs 65': np.float64(4.0)}, {'name': 'u04', 'gpaAll': np.float64(3.029), 'gpa 13s': np.float64(3.5), 'cs 65': np.float64(4.0)}, {'name': 'u05', 'gpaAll': np.float64(3.679), 'gpa 13s': np.float64(3.777777778), 'cs 65': np.float64(4.0)}, {'name': 'u07', 'gpaAll': np.float64(3.474), 'gpa 13s': np.float64(4.0), 'cs 65': np.float64(4.0)}, {'name': 'u08', 'gpaAll': np.float64(3.705), 'gpa 13s': np.float64(3.333333333), 'cs 65': np.float64(4.0)}, {'name': 'u09', 'gpaAll': np.float64(3.806), 'gpa 13s': np.float64(3.777777778), 'cs 65': np.float64(3.666666667)}, {'name': 'u10', 'gpaAll': np.float64(3.667), 'gpa 13s': np.float64(3.777777778), 'cs 65': np.float64(4.0)}, {'name': 'u12', 'gpaAll': np.float64(3.245), 'gpa 13s': np.float64(2.583333333), 'cs 65': np.float64(2.333333333)}, {'name': 'u14', 'gpaAll': np.float64(3.293), 'gpa 13s': np.float64(3.888888889), 'cs 65': np.float64(3.666666667)}, {'name': 'u15', 'gpaAll': np.float64(2.815), 'gpa 13s': np.float64(3.333333333), 'cs 65': np.float64(3.666666667)}, {'name': 'u16', 'gpaAll': np.float64(3.373), 'gpa 13s': np.float64(4.0), 'cs 65': np.float64(4.0)}, {'name': 'u17', 'gpaAll': np.float64(3.476), 'gpa 13s': np.float64(3.333333333), 'cs 65': np.float64(4.0)}, {'name': 'u18', 'gpaAll': np.float64(3.474), 'gpa 13s': np.float64(3.333333333), 'cs 65': np.float64(3.333333333)}, {'name': 'u19', 'gpaAll': np.float64(3.947), 'gpa 13s': np.float64(3.777777778), 'cs 65': np.float64(3.333333333)}, {'name': 'u22', 'gpaAll': np.float64(3.889), 'gpa 13s': np.float64(3.916666667), 'cs 65': np.float64(4.0)}, {'name': 'u24', 'gpaAll': np.float64(2.987), 'gpa 13s': np.float64(3.222222222), 'cs 65': np.float64(3.333333333)}, {'name': 'u25', 'gpaAll': np.float64(2.765), 'gpa 13s': np.float64(3.333333333), 'cs 65': np.float64(3.666666667)}, {'name': 'u27', 'gpaAll': np.float64(3.719), 'gpa 13s': np.float64(3.333333333), 'cs 65': np.float64(3.0)}, {'name': 'u30', 'gpaAll': np.float64(3.93), 'gpa 13s': np.float64(3.916666667), 'cs 65': np.float64(4.0)}, {'name': 'u32', 'gpaAll': np.float64(3.826), 'gpa 13s': np.float64(3.888888889), 'cs 65': np.float64(4.0)}, {'name': 'u33', 'gpaAll': np.float64(2.815), 'gpa 13s': np.float64(2.777777778), 'cs 65': np.float64(4.0)}, {'name': 'u41', 'gpaAll': np.float64(3.652), 'gpa 13s': np.float64(3.777777778), 'cs 65': np.float64(4.0)}, {'name': 'u43', 'gpaAll': np.float64(3.79), 'gpa 13s': np.float64(4.0), 'cs 65': np.float64(4.0)}, {'name': 'u46', 'gpaAll': np.float64(3.646), 'gpa 13s': np.float64(1.111111111), 'cs 65': np.float64(4.0)}, {'name': 'u49', 'gpaAll': np.float64(3.625), 'gpa 13s': np.float64(3.777777778), 'cs 65': np.float64(4.0)}, {'name': 'u52', 'gpaAll': np.float64(2.4), 'gpa 13s': np.float64(1.0), 'cs 65': np.float64(0.0)}, {'name': 'u54', 'gpaAll': np.float64(3.343), 'gpa 13s': np.float64(3.444444444), 'cs 65': np.float64(4.0)}, {'name': 'u57', 'gpaAll': np.float64(3.389), 'gpa 13s': np.float64(2.666666667), 'cs 65': np.float64(4.0)}, {'name': 'u59', 'gpaAll': np.float64(3.519), 'gpa 13s': np.float64(3.555555556), 'cs 65': np.float64(3.666666667)}]\n"
     ]
    }
   ],
   "source": [
    "def create_grades_dictionary(grades_data):\n",
    "    final_grades_data = []\n",
    "    for student in range (len(grades_data)):\n",
    "        name = grades_data['uid'][student]\n",
    "        gpaAll = grades_data[' gpa all'][student]\n",
    "        gpa13s = grades_data[' gpa 13s'][student]\n",
    "        cs65 = grades_data[' cs 65'][student]\n",
    "        final_grades_data.append({\n",
    "            'name': name,\n",
    "            'gpaAll': gpaAll,\n",
    "            'gpa 13s': gpa13s,\n",
    "            'cs 65': cs65\n",
    "        })\n",
    "    return final_grades_data\n",
    "\n",
    "#call the function\n",
    "final_grades_data = create_grades_dictionary(grades_data)\n",
    "\n",
    "#just checking\n",
    "print(len(final_grades_data))\n",
    "print(final_grades_data)"
   ]
  },
  {
   "cell_type": "code",
   "execution_count": 33,
   "metadata": {},
   "outputs": [
    {
     "name": "stdout",
     "output_type": "stream",
     "text": [
      "{'name': 'u01', 'gpaAll': np.float64(2.863), 'gpa 13s': np.float64(1.777777778), 'cs 65': np.float64(3.0)}\n"
     ]
    },
    {
     "data": {
      "text/plain": [
       "'\\nfor i in range (59):\\n    name =  f\"u{i:02d}\"\\n    if (grades_data[i][name] is None):\\n        print(name)\\n        '"
      ]
     },
     "execution_count": 33,
     "metadata": {},
     "output_type": "execute_result"
    }
   ],
   "source": [
    "sleepToGrades = []\n",
    "#sleep_data = create_sleep_dictionary()\n",
    "grades_data = create_grades_dictionary(grades_data)\n",
    "\n",
    "for i in range (59):\n",
    "    name =  f\"u{i:02d}\""
   ]
  }
 ],
 "metadata": {
  "kernelspec": {
   "display_name": ".venv",
   "language": "python",
   "name": "python3"
  },
  "language_info": {
   "codemirror_mode": {
    "name": "ipython",
    "version": 3
   },
   "file_extension": ".py",
   "mimetype": "text/x-python",
   "name": "python",
   "nbconvert_exporter": "python",
   "pygments_lexer": "ipython3",
   "version": "3.13.0"
  }
 },
 "nbformat": 4,
 "nbformat_minor": 2
}
