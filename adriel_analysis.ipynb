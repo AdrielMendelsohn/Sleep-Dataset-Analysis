{
 "cells": [
  {
   "cell_type": "markdown",
   "metadata": {},
   "source": [
    "## Imports"
   ]
  },
  {
   "cell_type": "code",
   "execution_count": 163,
   "metadata": {},
   "outputs": [],
   "source": [
    "import pandas as pd\n",
    "import os\n",
    "\n",
    "from src import files_import\n",
    "from src import to_csv\n",
    "from src import cleaning\n",
    "import numpy as np"
   ]
  },
  {
   "cell_type": "markdown",
   "metadata": {},
   "source": [
    "## Variables"
   ]
  },
  {
   "cell_type": "code",
   "execution_count": 164,
   "metadata": {},
   "outputs": [],
   "source": [
    "# Define the folder containing the files\n",
    "EMA_dictionary = \"data/StudentLife/dataset/EMA\"\n",
    "mood_directory_path = \"data/StudentLife/dataset/EMA/response/Mood\"\n",
    "mood1_directory_path = \"data/StudentLife/dataset/EMA/response/Mood 1\"\n",
    "mood2_directory_path = \"data/StudentLife/dataset/EMA/response/Mood 2\"\n",
    "exercise_directory_path = \"data/StudentLife/dataset/EMA/response/Exercise\"\n",
    "stress_directory_path = \"data/StudentLife/dataset/EMA/response/Stress\"\n",
    "social_directory_path = \"data/StudentLife/dataset/EMA/response/Social\"\n",
    "sleep_directory_path = \"data/StudentLife/dataset/EMA/response/Sleep\"\n",
    "activity_directory_path = \"data/StudentLife/dataset/EMA/response/Activity\"\n",
    "\n",
    "\n",
    "# Define single file paths\n",
    "grades_file_path = \"data/StudentLife/dataset/education/grades.csv\"\n",
    "\n",
    "# List of datasets and their directory paths\n",
    "survey_datasets = {\n",
    "    \"Mood\": {'Path' : mood_directory_path, 'Important_Column' : 'happyornot'},\n",
    "    \"Mood1\":  {'Path' : mood1_directory_path, 'Important_Column' : 'tomorrow'},\n",
    "    \"Mood2\":  {'Path' : mood2_directory_path, 'Important_Column' : 'how'},\n",
    "    \"Exercise\":  {'Path' : exercise_directory_path, 'Important_Column' : 'have'},\n",
    "    \"Stress\":  {'Path' : stress_directory_path, 'Important_Column' : 'level'},\n",
    "    \"Social\":  {'Path' : social_directory_path, 'Important_Column' : 'number'},\n",
    "    \"Sleep\":  {'Path' : sleep_directory_path, 'Important_Column' : 'hour'},\n",
    "    \"Activity\":  {'Path' : activity_directory_path, 'Important_Column' : 'working'},\n",
    "}\n",
    "\n",
    "output_path =\"output.csv\"\n",
    "\n",
    "semester_length_in_days = 65\n",
    "\n",
    "\n"
   ]
  },
  {
   "cell_type": "markdown",
   "metadata": {},
   "source": [
    "## Download the data"
   ]
  },
  {
   "cell_type": "code",
   "execution_count": 165,
   "metadata": {},
   "outputs": [],
   "source": [
    "all_data = {}\n",
    "for survey, dictionary in survey_datasets.items():\n",
    "    combined_data = to_csv.folder_to_csv(dictionary['Path'], dictionary['Important_Column'], 0)\n",
    "    all_data[survey] = combined_data\n"
   ]
  },
  {
   "cell_type": "markdown",
   "metadata": {},
   "source": [
    "## Analysing\n",
    "\n",
    "### Making a combined csv with all types of data"
   ]
  },
  {
   "cell_type": "code",
   "execution_count": null,
   "metadata": {},
   "outputs": [],
   "source": [
    "combined_csv = {}"
   ]
  },
  {
   "cell_type": "markdown",
   "metadata": {},
   "source": [
    "#### Social and Stress"
   ]
  },
  {
   "cell_type": "code",
   "execution_count": 167,
   "metadata": {},
   "outputs": [],
   "source": [
    "\n",
    "# Transformation dictionaries\n",
    "# if data saved as a range, mapping to midpoint\n",
    "social_mapping = {\n",
    "    1:2, 2:7, 3:15, 4:30, 5:75, 6:150\n",
    "}\n",
    "stress_mapping = {\n",
    "    1:3, 2:4, 3:5, 4:2, 5:1\n",
    "}\n",
    "\n",
    "# Mapping the data\n",
    "stress_data= all_data['Stress']\n",
    "all_data['Stress']['stress_level'] = stress_data['level'].map(stress_mapping)\n",
    "\n",
    "social_data= all_data['Social']\n",
    "all_data['Social']['number_of_people'] = social_data['number'].map(social_mapping)\n",
    "\n",
    "\n",
    "average_social = all_data['Social'].groupby('User')['number_of_people'].mean()\n",
    "average_stress = all_data['Stress'].groupby('User')['stress_level'].mean()\n",
    "combined_csv['number_of_people'] = average_social\n",
    "combined_csv['avg_stress_level'] = average_stress\n"
   ]
  },
  {
   "cell_type": "markdown",
   "metadata": {},
   "source": [
    "#### Exercise"
   ]
  },
  {
   "cell_type": "code",
   "execution_count": 169,
   "metadata": {},
   "outputs": [],
   "source": [
    "\n",
    "# Transformation dictionaries\n",
    "exercise_mapping = {\n",
    "    1:0, 2:15, 3:45, 4:75, 5:110\n",
    "}\n",
    "# Mapping the data\n",
    "exercise_data= all_data['Exercise']\n",
    "exercise_data['exercise_time'] = exercise_data['exercise'].map(exercise_mapping)\n",
    "exercise_data['walk_time'] = exercise_data['walk'].map(exercise_mapping)\n",
    "average_exercise_time = exercise_data.groupby('User')['exercise_time'].mean()\n",
    "average_walk_time = exercise_data.groupby('User')['walk_time'].mean()\n",
    "exercise_amount = exercise_data[exercise_data['exercise'] == 1].groupby('User')['exercise'].sum()\n",
    "exercise_avg_per_day = exercise_amount/semester_length_in_days\n",
    "\n",
    "combined_csv['amount_of_workouts'] = exercise_amount\n",
    "combined_csv['avg_workout_per_day'] = exercise_avg_per_day\n",
    "combined_csv['avg_workout_time'] = average_exercise_time\n",
    "combined_csv['avg_walk_time'] = average_walk_time"
   ]
  },
  {
   "cell_type": "markdown",
   "metadata": {},
   "source": [
    "#### Sleep\n"
   ]
  },
  {
   "cell_type": "code",
   "execution_count": 170,
   "metadata": {},
   "outputs": [],
   "source": [
    "sleep_hour_mapping = {\n",
    "    1:2, 2:3.5, 3:4, 4:4.5, 5:5, 6:5.5, 7:6, 8:6.5, 9:7, 10:7.5, 11:8, 12:8.5, 13:9, 14:9.5, 15:10, 16:10.5, 17:11, 18:11.5, 19:12\n",
    "}\n",
    "\n",
    "sleep_data = all_data['Sleep']\n",
    "sleep_data['sleep_hours'] = sleep_data['hour'].map(sleep_hour_mapping)\n",
    "\n",
    "average_sleep_hours = sleep_data.groupby('User')['sleep_hours'].mean()\n",
    "average_sleep_rating = sleep_data.groupby('User')['rate'].mean()\n",
    "\n",
    "combined_csv['avg_sleep_hours'] = average_sleep_hours\n",
    "combined_csv['avg_sleep_rating'] = average_sleep_rating\n"
   ]
  },
  {
   "cell_type": "markdown",
   "metadata": {},
   "source": [
    "#### Mood"
   ]
  },
  {
   "cell_type": "code",
   "execution_count": 171,
   "metadata": {},
   "outputs": [],
   "source": [
    "sad_happy_data = all_data['Mood']\n",
    "feeling_data = all_data['Mood2']\n",
    "\n",
    "# Cleaning the data\n",
    "sad_happy_data = sad_happy_data.dropna(subset=['happy'])\n",
    "sad_happy_data.loc[sad_happy_data['happyornot'] == 2, 'happy'] = 0\n",
    "sad_happy_data = sad_happy_data.dropna(subset=['sad'])\n",
    "sad_happy_data.loc[sad_happy_data['sadornot'] == 2, 'sad'] = 0\n",
    "\n",
    "# Analysing \n",
    "average_happy_rating = sad_happy_data.groupby('User')['happy'].mean()\n",
    "average_sad_rating = sad_happy_data.groupby('User')['sad'].mean()\n",
    "\n",
    "total_mood_entries = feeling_data.groupby('User')['how'].sum()\n",
    "happy_entry_sum = feeling_data[feeling_data['how'] == 1].groupby('User')['how'].sum()\n",
    "sad_entry_sum = feeling_data[feeling_data['how'] == 3].groupby('User')['how'].sum()\n",
    "stressed_entry_sum = feeling_data[feeling_data['how'] == 2].groupby('User')['how'].sum()\n",
    "\n",
    "\n",
    "# Adding to combined df\n",
    "combined_csv['avg_happy_rating'] = average_happy_rating\n",
    "combined_csv['avg_sad_rating'] = average_sad_rating\n",
    "combined_csv['happy_percentage'] = (happy_entry_sum/total_mood_entries)*100\n",
    "combined_csv['sad_percentage'] = (sad_entry_sum/total_mood_entries)*100\n",
    "combined_csv['stressed_percentage'] = (stressed_entry_sum/total_mood_entries)*100"
   ]
  },
  {
   "cell_type": "markdown",
   "metadata": {},
   "source": [
    "#### Study/Relax Time"
   ]
  },
  {
   "cell_type": "code",
   "execution_count": 172,
   "metadata": {},
   "outputs": [],
   "source": [
    "percentage_spent_mapping = {\n",
    "    1:5, 2:18, 3:38, 4:63, 5:88\n",
    "}\n",
    "time_spent_data = all_data['Activity']\n",
    "\n",
    "time_spent_data['alone_working'] = time_spent_data['working'].map(percentage_spent_mapping)\n",
    "time_spent_data['alone_relaxing'] = time_spent_data['relaxing'].map(percentage_spent_mapping)\n",
    "time_spent_data['together_working'] = time_spent_data['other_working'].map(percentage_spent_mapping)\n",
    "time_spent_data['together_relaxing'] = time_spent_data['other_relaxing'].map(percentage_spent_mapping)\n",
    "time_spent_data['total_time_spent'] = time_spent_data['together_relaxing'] + time_spent_data['together_working'] + time_spent_data['alone_relaxing'] + time_spent_data['alone_working']\n",
    "\n",
    "# Percentages\n",
    "time_spent_data['alone_percentage'] = (time_spent_data['alone_working'] + time_spent_data['alone_relaxing'])/time_spent_data['total_time_spent']  * 100\n",
    "time_spent_data['together_percentage'] = (time_spent_data['together_working'] + time_spent_data['together_relaxing'])/time_spent_data['total_time_spent']  * 100\n",
    "time_spent_data['working_percentage'] = (time_spent_data['alone_working'] + time_spent_data['together_working'])/time_spent_data['total_time_spent']  * 100\n",
    "time_spent_data['relaxing_percentage'] = (time_spent_data['alone_relaxing'] + time_spent_data['together_relaxing'])/time_spent_data['total_time_spent']  * 100\n",
    "\n",
    "# adding averages\n",
    "combined_csv['avg_alone_percentage'] = time_spent_data.groupby('User')['alone_percentage'].mean()\n",
    "combined_csv['avg_together_percentage'] = time_spent_data.groupby('User')['together_percentage'].mean()\n",
    "combined_csv['avg_working_percentage'] = time_spent_data.groupby('User')['working_percentage'].mean()\n",
    "combined_csv['avg_relaxing_percentage'] = time_spent_data.groupby('User')['relaxing_percentage'].mean()\n",
    "\n",
    "\n"
   ]
  },
  {
   "cell_type": "markdown",
   "metadata": {},
   "source": [
    "#### Creating the .csv"
   ]
  },
  {
   "cell_type": "code",
   "execution_count": 173,
   "metadata": {},
   "outputs": [],
   "source": [
    "\n",
    "df = pd.DataFrame.from_dict(combined_csv, orient='columns')\n",
    "df.to_csv(output_path, index=True)"
   ]
  },
  {
   "cell_type": "markdown",
   "metadata": {},
   "source": [
    "#### Grades"
   ]
  },
  {
   "cell_type": "code",
   "execution_count": 174,
   "metadata": {},
   "outputs": [
    {
     "name": "stderr",
     "output_type": "stream",
     "text": [
      "<>:2: SyntaxWarning: invalid escape sequence '\\d'\n",
      "<>:2: SyntaxWarning: invalid escape sequence '\\d'\n",
      "C:\\Users\\adrie\\AppData\\Local\\Temp\\ipykernel_10668\\30420465.py:2: SyntaxWarning: invalid escape sequence '\\d'\n",
      "  file_path = \"data/StudentLife\\dataset\\education\\grades.csv\"\n"
     ]
    }
   ],
   "source": [
    "\n"
   ]
  },
  {
   "cell_type": "markdown",
   "metadata": {},
   "source": []
  }
 ],
 "metadata": {
  "kernelspec": {
   "display_name": "venv",
   "language": "python",
   "name": "python3"
  },
  "language_info": {
   "codemirror_mode": {
    "name": "ipython",
    "version": 3
   },
   "file_extension": ".py",
   "mimetype": "text/x-python",
   "name": "python",
   "nbconvert_exporter": "python",
   "pygments_lexer": "ipython3",
   "version": "3.13.1"
  }
 },
 "nbformat": 4,
 "nbformat_minor": 2
}
