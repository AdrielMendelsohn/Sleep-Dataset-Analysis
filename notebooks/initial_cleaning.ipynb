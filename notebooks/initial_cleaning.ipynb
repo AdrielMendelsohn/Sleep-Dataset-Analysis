{
 "cells": [
  {
   "cell_type": "code",
   "execution_count": 3,
   "metadata": {},
   "outputs": [],
   "source": [
    "import pandas as pd\n",
    "import sys\n",
    "from pathlib import Path\n",
    "# setting path\n",
    "sys.path.append('../src')\n",
    "\n",
    "import files_import"
   ]
  },
  {
   "cell_type": "code",
   "execution_count": 8,
   "metadata": {},
   "outputs": [],
   "source": [
    "# Define the folder containing the files\n",
    "folder_path = \"../../StudentLife backup/EMA/response/Sleep\""
   ]
  },
  {
   "cell_type": "code",
   "execution_count": 16,
   "metadata": {},
   "outputs": [
    {
     "name": "stdout",
     "output_type": "stream",
     "text": [
      "{'file_name': 'Sleep_u36.json', 'record_count': 37, 'keys': ['hour', 'location', 'rate', 'resp_time', 'social'], 'data': [{'hour': '5', 'location': '43.65180755,-72.3098317', 'rate': '4', 'resp_time': 1364838346, 'social': '1'}, {'null': '43.706278,-72.28878583', 'resp_time': 1364121762}, {'null': '1', 'resp_time': 1364118685}, {'null': '8', 'resp_time': 1364121758}, {'null': '1', 'resp_time': 1364121760}, {'null': '1', 'resp_time': 1364122102}, {'hour': '7', 'location': '43.65179828,-72.30998204', 'rate': '2', 'resp_time': 1364577458, 'social': '1'}, {'hour': '8', 'location': '43.65193883,-72.30979792', 'rate': '2', 'resp_time': 1364755863, 'social': '1'}, {'hour': '8', 'location': '43.65158151,-72.31004153', 'rate': '1', 'resp_time': 1364667182, 'social': '1'}, {'hour': '8', 'location': '43.65170046,-72.30994989', 'rate': '1', 'resp_time': 1364923674, 'social': '1'}, {'hour': '7', 'location': '43.65181117,-72.31002075', 'rate': '2', 'resp_time': 1365010054, 'social': '1'}, {'hour': '8', 'location': '43.65176754,-72.3098904', 'rate': '2', 'resp_time': 1365095437, 'social': '1'}, {'hour': '4', 'location': '43.65173128,-72.30996775', 'rate': '4', 'resp_time': 1365182644, 'social': '1'}, {'hour': '8', 'location': '43.65162591,-72.3100873', 'rate': '2', 'resp_time': 1365358634, 'social': '1'}, {'hour': '8', 'location': '43.65186855,-72.30992432', 'rate': '2', 'resp_time': 1365267878, 'social': '1'}, {'hour': '8', 'location': '43.65175234,-72.30991784', 'rate': '2', 'resp_time': 1365442876, 'social': '1'}, {'hour': '8', 'location': '43.65177652,-72.31003679', 'rate': '2', 'resp_time': 1365528146, 'social': '1'}, {'hour': '8', 'location': '43.65152672,-72.30988846', 'rate': '1', 'resp_time': 1365614989, 'social': '1'}, {'hour': '8', 'location': '43.65175181,-72.3098089', 'rate': '2', 'resp_time': 1366218024, 'social': '1'}, {'hour': '8', 'location': '43.65196548,-72.3102879', 'rate': '1', 'resp_time': 1365701141, 'social': '1'}, {'hour': '5', 'location': '43.65158304,-72.30996323', 'rate': '4', 'resp_time': 1365787555, 'social': '1'}, {'hour': '8', 'location': '43.65169916,-72.3100547', 'rate': '2', 'resp_time': 1366047085, 'social': '1'}, {'hour': '8', 'location': '43.65178381,-72.30987986', 'rate': '2', 'resp_time': 1365960126, 'social': '1'}, {'hour': '8', 'location': '43.70655534,-72.28702434', 'rate': '2', 'resp_time': 1366067890, 'social': '1'}, {'hour': '8', 'location': '37.94400248,-121.72342483', 'rate': '2', 'resp_time': 1366571637, 'social': '1'}, {'hour': '6', 'location': '38.58404326,-121.50064231', 'rate': '2', 'resp_time': 1366665242, 'social': '1'}, {'hour': '7', 'location': '43.65167494,-72.30968224', 'rate': '2', 'resp_time': 1367170676, 'social': '1'}, {'hour': '7', 'location': '43.65159753,-72.30987449', 'rate': '2', 'resp_time': 1367255857, 'social': '1'}, {'hour': '7', 'location': '43.65203022,-72.31004777', 'rate': '2', 'resp_time': 1367429608, 'social': '1'}, {'hour': '6', 'location': '43.65184746,-72.30996688', 'rate': '2', 'resp_time': 1367514420, 'social': '1'}, {'hour': '8', 'location': '43.65172546,-72.30994232', 'rate': '2', 'resp_time': 1367599918, 'social': '1'}, {'hour': '8', 'location': '43.65160512,-72.3099223', 'rate': '2', 'resp_time': 1368294901, 'social': '1'}, {'hour': '8', 'location': '43.6517384,-72.31006585', 'rate': '2', 'resp_time': 1367776915, 'social': '1'}, {'hour': '10', 'location': '43.65168477,-72.30992573', 'rate': '1', 'resp_time': 1368034377, 'social': '1'}, {'hour': '7', 'location': '43.70685421,-72.28708325', 'rate': '2', 'resp_time': 1367861923, 'social': '1'}, {'hour': '10', 'location': '43.69374231,-72.28454521', 'rate': '1', 'resp_time': 1368124768, 'social': '1'}, {'hour': '10', 'location': '43.65180627,-72.30959223', 'rate': '1', 'resp_time': 1368990779, 'social': '1'}]}\n",
      "[{'hour': '8', 'location': '43.70692415,-72.2873929', 'rate': '1', 'resp_time': 1364237676, 'social': '1'}, {'hour': '5', 'location': '43.70708859,-72.28753397', 'rate': '3', 'resp_time': 1365010047, 'social': '2'}, {'hour': '8', 'location': '43.70759062,-72.28510298', 'rate': '1', 'resp_time': 1364334405, 'social': '1'}, {'hour': '7', 'location': '43.70393682,-72.30152284', 'rate': '2', 'resp_time': 1364321234, 'social': '1'}, {'hour': '8', 'location': '43.75932116,-72.32890406', 'rate': '3', 'resp_time': 1364357389, 'social': '1'}, {'hour': '8', 'location': '43.70688822,-72.28758629', 'rate': '1', 'resp_time': 1364408307, 'social': '1'}, {'hour': '6', 'location': '43.70528646,-72.28684485', 'rate': '2', 'resp_time': 1364437512, 'social': '1'}, {'hour': '7', 'location': '43.70567695,-72.2879286', 'rate': '2', 'resp_time': 1364490035, 'social': '1'}, {'hour': '4', 'location': '43.70466313,-72.30515871', 'rate': '3', 'resp_time': 1364572628, 'social': '1'}, {'hour': '8', 'location': '43.70671862,-72.28748696', 'rate': '1', 'resp_time': 1364522690, 'social': '1'}, {'hour': '4', 'location': '43.70647015,-72.28715547', 'rate': '3', 'resp_time': 1364577749, 'social': '1'}, {'hour': '8', 'location': '43.70777831,-72.28510534', 'rate': '1', 'resp_time': 1364583795, 'social': '1'}, {'hour': '9', 'location': '43.75914412,-72.32945574', 'rate': '2', 'resp_time': 1364750657, 'social': '1'}, {'hour': '3', 'location': '43.70677717,-72.2874797', 'rate': '4', 'resp_time': 1364836266, 'social': '1'}, {'hour': '10', 'location': '43.70708859,-72.28753397', 'rate': '2', 'resp_time': 1365095193, 'social': '2'}, {'hour': '4', 'location': '43.70708859,-72.28753397', 'rate': '1', 'resp_time': 1365181215, 'social': '1'}, {'hour': '9', 'location': '43.70708859,-72.28753397', 'rate': '1', 'resp_time': 1365358039, 'social': '1'}, {'hour': '9', 'location': '43.70708859,-72.28753397', 'rate': '2', 'resp_time': 1365268350, 'social': '2'}, {'hour': '5', 'location': '43.70678333,-72.28754051', 'rate': '1', 'resp_time': 1365440432, 'social': '1'}, {'hour': '4', 'location': '43.70680961,-72.28757253', 'rate': '3', 'resp_time': 1365440444, 'social': '1'}, {'hour': '6', 'location': '43.64301116,-72.30784768', 'rate': '3', 'resp_time': 1365529523, 'social': '1'}, {'hour': '5', 'location': '43.705058,-72.28772623', 'rate': '1', 'resp_time': 1365614822, 'social': '1'}, {'hour': '8', 'location': '43.70414319,-72.28774882', 'rate': '1', 'resp_time': 1365701129, 'social': '1'}, {'hour': '3', 'location': '43.71253942,-72.30803315', 'rate': '1', 'resp_time': 1365786365, 'social': '1'}, {'hour': '3', 'location': '43.70661096,-72.28731884', 'rate': '1', 'resp_time': 1366045742, 'social': '1'}, {'hour': '14', 'location': 'Unknown', 'rate': '1', 'resp_time': 1365897960, 'social': '1'}, {'hour': '9', 'location': '43.75917269,-72.32894748', 'rate': '1', 'resp_time': 1365966931, 'social': '1'}, {'hour': '9', 'location': '43.75917269,-72.32894748', 'rate': '1', 'resp_time': 1365966938, 'social': '1'}, {'hour': '3', 'location': '43.70661096,-72.28731884', 'rate': '4', 'resp_time': 1366045748, 'social': '1'}, {'hour': '3', 'location': '43.70399343,-72.30226048', 'rate': '4', 'resp_time': 1366218064, 'social': '1'}, {'hour': '8', 'location': '41.64732181,-71.51018915', 'rate': '1', 'resp_time': 1366488754, 'social': '1'}, {'hour': '8', 'location': '43.75957917,-72.32886943', 'rate': '2', 'resp_time': 1366564205, 'social': '1'}, {'hour': '9', 'location': '43.75923622,-72.32892739', 'rate': '1', 'resp_time': 1366841234, 'social': '1'}, {'hour': '6', 'location': '43.71722994,-72.30901577', 'rate': '3', 'resp_time': 1366739819, 'social': '1'}, {'hour': '3', 'location': '43.70661363,-72.28736513', 'rate': '4', 'resp_time': 1366650364, 'social': '1'}, {'hour': '5', 'location': '43.72475325,-72.31381984', 'rate': '3', 'resp_time': 1366909403, 'social': '1'}, {'hour': '3', 'location': '43.71346364,-72.30894875', 'rate': '4', 'resp_time': 1367429993, 'social': '1'}, {'hour': '3', 'location': '43.71346364,-72.30894875', 'rate': '4', 'resp_time': 1367429974, 'social': '1'}, {'hour': '3', 'location': '43.71346364,-72.30894875', 'rate': '4', 'resp_time': 1367429973, 'social': '1'}, {'hour': '11', 'location': '43.70665289,-72.28734948', 'rate': '1', 'resp_time': 1368208319, 'social': '1'}, {'hour': '15', 'location': '43.7336199,-72.31693218', 'rate': '1', 'resp_time': 1368466442, 'social': '1'}, {'hour': '10', 'location': '48.86274371,2.33147895', 'rate': '1', 'resp_time': 1367757820, 'social': '1'}, {'hour': '10', 'location': '43.75959375,-72.32893949', 'rate': '2', 'resp_time': 1368121503, 'social': '1'}, {'hour': '9', 'location': 'Unknown', 'rate': '1', 'resp_time': 1367851204, 'social': '1'}, {'hour': '6', 'location': '45.43592024,12.34452394', 'rate': '1', 'resp_time': 1368036984, 'social': '1'}, {'hour': '10', 'location': '42.62013314,-71.17654852', 'rate': '1', 'resp_time': 1368725594, 'social': '1'}, {'hour': '9', 'location': '43.7590614,-72.32948628', 'rate': '2', 'resp_time': 1368812382, 'social': '1'}, {'hour': '9', 'location': 'Unknown', 'rate': '2', 'resp_time': 1369334102, 'social': '1'}, {'hour': '9', 'location': '43.70251211,-72.2885559', 'rate': '2', 'resp_time': 1369421721, 'social': '2'}, {'hour': '7', 'location': '38.92580143,-77.05273194', 'rate': '3', 'resp_time': 1369502283, 'social': '1'}, {'hour': '12', 'location': '43.75908452,-72.32932991', 'rate': '2', 'resp_time': 1369593829, 'social': '1'}, {'hour': '9', 'location': '43.70602498,-72.28697831', 'rate': '3', 'resp_time': 1369763675, 'social': '3'}, {'hour': '1', 'location': 'Unknown', 'rate': '1', 'resp_time': 1369847265, 'social': '1'}, {'hour': '10', 'location': '43.75946982,-72.32910245', 'rate': '2', 'resp_time': 1370019791, 'social': '1'}, {'hour': '9', 'location': '43.75938059,-72.32893392', 'rate': '1', 'resp_time': 1370195956, 'social': '1'}]\n"
     ]
    }
   ],
   "source": [
    "\n",
    "results = files_import.process_folder(folder_path)\n",
    "\n",
    "print(results[30])\n",
    "\n",
    "# Filter out objects with the key 'null'\n",
    "cleaned_data = [obj for obj in results[0]['data'] if 'null' not in obj]\n",
    "\n",
    "# Print the cleaned data\n",
    "print(cleaned_data)\n"
   ]
  }
 ],
 "metadata": {
  "kernelspec": {
   "display_name": "venv",
   "language": "python",
   "name": "python3"
  },
  "language_info": {
   "codemirror_mode": {
    "name": "ipython",
    "version": 3
   },
   "file_extension": ".py",
   "mimetype": "text/x-python",
   "name": "python",
   "nbconvert_exporter": "python",
   "pygments_lexer": "ipython3",
   "version": "3.13.1"
  }
 },
 "nbformat": 4,
 "nbformat_minor": 2
}
