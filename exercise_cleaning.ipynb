{
 "cells": [
  {
   "cell_type": "markdown",
   "metadata": {},
   "source": [
    "## Imports"
   ]
  },
  {
   "cell_type": "code",
   "execution_count": 13,
   "metadata": {},
   "outputs": [],
   "source": [
    "import pandas as pd\n",
    "import os\n",
    "\n",
    "from src import files_import\n",
    "from src import to_csv\n",
    "from src import cleaning"
   ]
  },
  {
   "cell_type": "markdown",
   "metadata": {},
   "source": [
    "## Variables"
   ]
  },
  {
   "cell_type": "code",
   "execution_count": 14,
   "metadata": {},
   "outputs": [],
   "source": [
    "# Define the folder containing the files\n",
    "EMA_dictionary = \"data/StudentLife/dataset/EMA\"\n",
    "mood_directory_path = \"data/StudentLife/dataset/EMA/response/Mood\"\n",
    "mood1_directory_path = \"data/StudentLife/dataset/EMA/response/Mood 1\"\n",
    "mood2_directory_path = \"data/StudentLife/dataset/EMA/response/Mood 2\"\n",
    "exercise_directory_path = \"data/StudentLife/dataset/EMA/response/Exercise\"\n",
    "stress_directory_path = \"data/StudentLife/dataset/EMA/response/Stress\"\n",
    "social_directory_path = \"data/StudentLife/dataset/EMA/response/Social\"\n",
    "sleep_directory_path = \"data/StudentLife/dataset/EMA/response/Sleep\"\n",
    "activity_directory_path = \"data/StudentLife/dataset/EMA/response/Activity\"\n",
    "\n",
    "\n",
    "# Define single file paths\n",
    "grades_file_path = \"data/StudentLife/dataset/education/grades.csv\"\n",
    "\n",
    "# List of datasets and their directory paths\n",
    "survey_datasets = {\n",
    "    \"Mood\": {'Path' : mood_directory_path, 'Important_Column' : 'happyornot'},\n",
    "    \"Mood1\":  {'Path' : mood1_directory_path, 'Important_Column' : 'tomorrow'},\n",
    "    \"Mood2\":  {'Path' : mood2_directory_path, 'Important_Column' : 'how'},\n",
    "    \"Exercise\":  {'Path' : exercise_directory_path, 'Important_Column' : 'have'},\n",
    "    \"Stress\":  {'Path' : stress_directory_path, 'Important_Column' : 'level'},\n",
    "    \"Social\":  {'Path' : social_directory_path, 'Important_Column' : 'number'},\n",
    "    \"Sleep\":  {'Path' : sleep_directory_path, 'Important_Column' : 'hour'},\n",
    "    \"Activity\":  {'Path' : activity_directory_path, 'Important_Column' : 'working'},\n",
    "}\n",
    "\n",
    "\n"
   ]
  },
  {
   "cell_type": "markdown",
   "metadata": {},
   "source": [
    "## Download the data"
   ]
  },
  {
   "cell_type": "code",
   "execution_count": null,
   "metadata": {},
   "outputs": [],
   "source": [
    "all_data = {}\n",
    "for survey, dictionary in survey_datasets.items():\n",
    "    combined_data = to_csv.folder_to_csv(dictionary['Path'], dictionary['Important_Column'], 0)\n",
    "    all_data[survey] = combined_data\n"
   ]
  },
  {
   "cell_type": "markdown",
   "metadata": {},
   "source": [
    "## Analysing\n",
    "\n",
    "### Making a combined csv with all types of data"
   ]
  },
  {
   "cell_type": "code",
   "execution_count": 24,
   "metadata": {},
   "outputs": [],
   "source": [
    "combined_csv = {}\n",
    "# Transformation dictionaries\n",
    "social_mapping = {\n",
    "    1:2, 2:7, 3:15, 4:30, 5:75, 6:150\n",
    "}\n",
    "\n",
    "social_data= all_data['Social']\n",
    "all_data['Social']['number_of_people'] = social_data['number'].map(social_mapping)\n",
    "\n",
    "\n",
    "\n",
    "average_social = all_data['Social'].groupby('User')['number_of_people'].mean()\n",
    "average_stress = all_data['Stress'].groupby('User')['level'].mean()\n",
    "combined_csv['number_of_people'] = average_social\n",
    "combined_csv['avg_stress_level'] = average_social\n",
    "\n",
    "df = pd.DataFrame.from_dict(combined_csv, orient='columns')\n",
    "df.to_csv(\"output.csv\", index=True)\n"
   ]
  }
 ],
 "metadata": {
  "kernelspec": {
   "display_name": "venv",
   "language": "python",
   "name": "python3"
  },
  "language_info": {
   "codemirror_mode": {
    "name": "ipython",
    "version": 3
   },
   "file_extension": ".py",
   "mimetype": "text/x-python",
   "name": "python",
   "nbconvert_exporter": "python",
   "pygments_lexer": "ipython3",
   "version": "3.13.1"
  }
 },
 "nbformat": 4,
 "nbformat_minor": 2
}
