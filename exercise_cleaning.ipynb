{
 "cells": [
  {
   "cell_type": "code",
   "execution_count": 1,
   "metadata": {},
   "outputs": [],
   "source": [
    "import pandas as pd\n",
    "\n",
    "from src import files_import\n",
    "from src import to_csv"
   ]
  },
  {
   "cell_type": "markdown",
   "metadata": {},
   "source": [
    "## Variables"
   ]
  },
  {
   "cell_type": "code",
   "execution_count": 2,
   "metadata": {},
   "outputs": [],
   "source": [
    "# Define the folder containing the files\n",
    "EMA_dictionary = \"data/StudentLife/dataset/EMA\"\n",
    "mood_directory_path = \"data/StudentLife/dataset/EMA/response/Mood\"\n",
    "mood1_directory_path = \"data/StudentLife/dataset/EMA/response/Mood 1\"\n",
    "mood2_directory_path = \"data/StudentLife/dataset/EMA/response/Mood 2\"\n",
    "exercise_directory_path = \"data/StudentLife/dataset/EMA/response/Exercise\"\n",
    "stress_directory_path = \"data/StudentLife/dataset/EMA/response/Stress\"\n",
    "social_directory_path = \"data/StudentLife/dataset/EMA/response/Social\"\n",
    "sleep_directory_path = \"data/StudentLife/dataset/EMA/response/Sleep\"\n",
    "\n",
    "\n",
    "# Define Single file paths\n",
    "grades_file_path = \"data/StudentLife/dataset/education/grades.csv\"\n",
    "\n",
    "# List of datasets and their directory paths\n",
    "survey_datasets = {\n",
    "    \"Mood\": mood_directory_path,\n",
    "    \"Mood1\": mood1_directory_path,\n",
    "    \"Mood2\": mood2_directory_path,\n",
    "    \"Exercise\": exercise_directory_path,\n",
    "    \"Stress\": stress_directory_path,\n",
    "    \"Social\": social_directory_path,\n",
    "    \"Sleep\": sleep_directory_path\n",
    "}\n",
    "output_csv = \"backup.csv\"  # Replace with the desired output CSV file name\n"
   ]
  },
  {
   "cell_type": "markdown",
   "metadata": {},
   "source": [
    "## Upload the data"
   ]
  },
  {
   "cell_type": "code",
   "execution_count": 3,
   "metadata": {},
   "outputs": [
    {
     "name": "stdout",
     "output_type": "stream",
     "text": [
      "data/StudentLife/dataset/EMA/response/Sleep\n",
      "                        null           resp_time  hour  \\\n",
      "0   43.75908069,-72.32885314 2013-03-24 08:46:00   NaN   \n",
      "1                          8 2013-03-24 08:46:05   NaN   \n",
      "2                          1 2013-03-24 08:40:53   NaN   \n",
      "3                          1 2013-03-24 08:46:15   NaN   \n",
      "4                          3 2013-03-24 08:39:25   NaN   \n",
      "..                       ...                 ...   ...   \n",
      "58                       NaN 2013-05-26 18:43:49  12.0   \n",
      "59                       NaN 2013-05-28 17:54:35   9.0   \n",
      "60                       NaN 2013-05-29 17:07:45   1.0   \n",
      "61                       NaN 2013-05-31 17:03:11  10.0   \n",
      "62                       NaN 2013-06-02 17:59:16   9.0   \n",
      "\n",
      "                    location  rate  social  \n",
      "0                        NaN   NaN     NaN  \n",
      "1                        NaN   NaN     NaN  \n",
      "2                        NaN   NaN     NaN  \n",
      "3                        NaN   NaN     NaN  \n",
      "4                        NaN   NaN     NaN  \n",
      "..                       ...   ...     ...  \n",
      "58  43.75908452,-72.32932991   2.0     1.0  \n",
      "59  43.70602498,-72.28697831   3.0     3.0  \n",
      "60                   Unknown   1.0     1.0  \n",
      "61  43.75946982,-72.32910245   2.0     1.0  \n",
      "62  43.75938059,-72.32893392   1.0     1.0  \n",
      "\n",
      "[63 rows x 6 columns]\n"
     ]
    },
    {
     "ename": "TypeError",
     "evalue": "json_pd_to_csv() missing 2 required positional arguments: 'data' and 'output_csv'",
     "output_type": "error",
     "traceback": [
      "\u001b[1;31m---------------------------------------------------------------------------\u001b[0m",
      "\u001b[1;31mTypeError\u001b[0m                                 Traceback (most recent call last)",
      "Cell \u001b[1;32mIn[3], line 7\u001b[0m\n\u001b[0;32m      3\u001b[0m \u001b[38;5;28mprint\u001b[39m (data)\n\u001b[0;32m      6\u001b[0m files_import\u001b[38;5;241m.\u001b[39mprocess_folder(\u001b[38;5;124m\"\u001b[39m\u001b[38;5;124mdata/StudentLife/dataset/EMA/response/Sleep\u001b[39m\u001b[38;5;124m\"\u001b[39m)\n\u001b[1;32m----> 7\u001b[0m \u001b[43mto_csv\u001b[49m\u001b[38;5;241;43m.\u001b[39;49m\u001b[43mjson_pd_to_csv\u001b[49m\u001b[43m(\u001b[49m\u001b[43m)\u001b[49m\n",
      "\u001b[1;31mTypeError\u001b[0m: json_pd_to_csv() missing 2 required positional arguments: 'data' and 'output_csv'"
     ]
    }
   ],
   "source": [
    "data = pd.read_json(\"data/StudentLife/dataset/EMA/response/Sleep/Sleep_u00.json\") \n",
    "print(survey_datasets[\"Sleep\"])\n",
    "print (data)\n",
    "\n",
    "\n",
    "files_import.process_folder(\"data/StudentLife/dataset/EMA/response/Sleep\")\n",
    "\n"
   ]
  },
  {
   "cell_type": "markdown",
   "metadata": {},
   "source": [
    "## "
   ]
  },
  {
   "cell_type": "code",
   "execution_count": null,
   "metadata": {},
   "outputs": [],
   "source": []
  }
 ],
 "metadata": {
  "kernelspec": {
   "display_name": "venv",
   "language": "python",
   "name": "python3"
  },
  "language_info": {
   "codemirror_mode": {
    "name": "ipython",
    "version": 3
   },
   "file_extension": ".py",
   "mimetype": "text/x-python",
   "name": "python",
   "nbconvert_exporter": "python",
   "pygments_lexer": "ipython3",
   "version": "3.13.1"
  }
 },
 "nbformat": 4,
 "nbformat_minor": 2
}
